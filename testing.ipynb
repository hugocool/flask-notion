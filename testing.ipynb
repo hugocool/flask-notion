{
 "cells": [
  {
   "cell_type": "code",
   "execution_count": 2,
   "source": [
    "from src.app import create_app\n",
    "\n",
    "app = create_app()\n",
    "app.run()"
   ],
   "outputs": [
    {
     "output_type": "stream",
     "name": "stdout",
     "text": [
      " * Serving Flask app 'src.app' (lazy loading)\n",
      " * Environment: production\n",
      "\u001b[31m   WARNING: This is a development server. Do not use it in a production deployment.\u001b[0m\n",
      "\u001b[2m   Use a production WSGI server instead.\u001b[0m\n",
      " * Debug mode: off\n"
     ]
    },
    {
     "output_type": "stream",
     "name": "stderr",
     "text": [
      " * Running on http://127.0.0.1:5000/ (Press CTRL+C to quit)\n"
     ]
    },
    {
     "output_type": "stream",
     "name": "stdout",
     "text": [
      " * Running on http://98f9-89-205-129-185.ngrok.io\n",
      " * Traffic stats available on http://127.0.0.1:4040\n"
     ]
    },
    {
     "output_type": "stream",
     "name": "stderr",
     "text": [
      "127.0.0.1 - - [19/Sep/2021 14:36:29] \"GET / HTTP/1.1\" 200 -\n",
      "127.0.0.1 - - [19/Sep/2021 14:36:34] \"GET / HTTP/1.1\" 200 -\n"
     ]
    }
   ],
   "metadata": {}
  },
  {
   "cell_type": "code",
   "execution_count": null,
   "source": [],
   "outputs": [],
   "metadata": {}
  }
 ],
 "metadata": {
  "orig_nbformat": 4,
  "language_info": {
   "name": "python",
   "version": "3.9.1",
   "mimetype": "text/x-python",
   "codemirror_mode": {
    "name": "ipython",
    "version": 3
   },
   "pygments_lexer": "ipython3",
   "nbconvert_exporter": "python",
   "file_extension": ".py"
  },
  "kernelspec": {
   "name": "python3",
   "display_name": "Python 3.9.1 64-bit ('.venv': poetry)"
  },
  "interpreter": {
   "hash": "8f3c9c2dcb89b4a7b12c0446234e480ba1d114d3ff7f0cbc2eab8004fa1590e5"
  }
 },
 "nbformat": 4,
 "nbformat_minor": 2
}